{
 "cells": [
  {
   "cell_type": "code",
   "execution_count": 19,
   "metadata": {
    "collapsed": true
   },
   "outputs": [],
   "source": [
    "import re"
   ]
  },
  {
   "cell_type": "code",
   "execution_count": 20,
   "metadata": {
    "collapsed": true
   },
   "outputs": [],
   "source": [
    "from datetime import datetime\n",
    "def set_time(date_str):\n",
    "    # convert datetime string to real time\n",
    "    time_struct = datetime.strptime(date_str, \"%d/%b/%Y:%H:%M:%S %z\")\n",
    "    return(time_struct)"
   ]
  },
  {
   "cell_type": "code",
   "execution_count": 21,
   "metadata": {
    "collapsed": true
   },
   "outputs": [],
   "source": [
    "def dict_record(record):\n",
    "    record_split = re.split(\"\\[|\\]\", record)\n",
    "    record_head_split = record_split[0].split()\n",
    "    record_tail_split = record_split[-1].split()\n",
    "    if record_tail_split[-1] == \"-\": record_tail_split[-1] = 0\n",
    "    # define dictionary of one record\n",
    "    dic = {\"raw\":record,\n",
    "           \"host\":record_head_split[0], \n",
    "           \"time\":record_split[-2],\n",
    "           \"request\":record_tail_split[1:-3],\n",
    "           \"code\":record_tail_split[-2],\n",
    "           \"bytes\":record_tail_split[-1]}\n",
    "    return(dic)"
   ]
  },
  {
   "cell_type": "code",
   "execution_count": 24,
   "metadata": {
    "collapsed": false
   },
   "outputs": [
    {
     "name": "stdout",
     "output_type": "stream",
     "text": [
      "4400644\n"
     ]
    }
   ],
   "source": [
    "#file_path = \"../insight_testsuite/temp/log_input/log.txt\"\n",
    "file_path = \"../log_input/log.txt\"\n",
    "record_list = []\n",
    "with open(file_path, \"r+\", encoding=\"utf-8\", errors=\"replace\") as text_file:\n",
    "    for record in text_file:\n",
    "        record = text_file.readline()[:-1]\n",
    "        record_split = dict_record(record[:-1])\n",
    "        record_list.append(record_split)"
   ]
  },
  {
   "cell_type": "code",
   "execution_count": 99,
   "metadata": {
    "collapsed": false
   },
   "outputs": [
    {
     "name": "stdout",
     "output_type": "stream",
     "text": [
      "199.72.81.55 , 6\n",
      "burger.letters.com , 3\n",
      "unicomp6.unicomp.net , 1\n"
     ]
    }
   ],
   "source": [
    "# rank of host\n",
    "from collections import defaultdict\n",
    "rank_host = defaultdict(int)\n",
    "for record in record_list:\n",
    "    rank_host[record[\"host\"]] += 1\n",
    "for key in sorted(rank_host, key = rank_host.get, reverse=True)[:10]:\n",
    "    print(key, \",\", rank_host[key])"
   ]
  },
  {
   "cell_type": "code",
   "execution_count": 100,
   "metadata": {
    "collapsed": false
   },
   "outputs": [
    {
     "name": "stdout",
     "output_type": "stream",
     "text": [
      "/login\n",
      "/shuttle/countdown/\n",
      "/shuttle/countdown/liftoff.html\n"
     ]
    }
   ],
   "source": [
    "# rank hot resources\n",
    "from collections import defaultdict\n",
    "rank_resource = defaultdict(int)\n",
    "for record in record_list:\n",
    "    for resource in record[\"request\"]:\n",
    "        rank_resource[resource] += int(record[\"bytes\"])\n",
    "for key in sorted(rank_resource, key = rank_resource.get, reverse=True)[:10]:\n",
    "    print(key)"
   ]
  },
  {
   "cell_type": "code",
   "execution_count": 101,
   "metadata": {
    "collapsed": false
   },
   "outputs": [],
   "source": [
    "# busiest 60-minute periods\n",
    "from datetime import timedelta\n",
    "\n",
    "rank_period = {}\n",
    "\n",
    "t_new = record_list[0][\"time\"]\n",
    "t_ini = set_time(t_new)\n",
    "t_fin = t_ini + timedelta(hours = 1)\n",
    "for nF in range(1,len(record_list)):\n",
    "    t_try = set_time(record_list[nF][\"time\"])\n",
    "    if t_try > t_fin :\n",
    "        break\n",
    "if nF == len(record_list)-1:\n",
    "    rank_period[t_new] = nF + 1\n",
    "else:\n",
    "    rank_period[t_new] = nF\n",
    "t_old = t_new\n",
    "    \n",
    "for nI in range(1, len(record_list)):\n",
    "    t_new = record_list[nI][\"time\"]\n",
    "    if t_new != t_old:\n",
    "        t_ini = set_time(t_new)\n",
    "        t_fin = t_ini + timedelta(hours = 1)\n",
    "        for nF in range(nI+1, len(record_list)):\n",
    "            t_try = set_time(record_list[nF][\"time\"])\n",
    "            if t_try > t_fin:\n",
    "                break\n",
    "        if nF == len(record_list)-1:\n",
    "            rank_period[t_new] = nF - nI + 1\n",
    "        else:\n",
    "            rank_period[t_new] = nF - nI\n",
    "    t_old = t_new"
   ]
  },
  {
   "cell_type": "code",
   "execution_count": 102,
   "metadata": {
    "collapsed": false
   },
   "outputs": [
    {
     "data": {
      "text/plain": [
       "['199.72.81.55 - - [01/Jul/1995:00:00:13 -0400] “POST /login HTTP/1.0” 401 1420',\n",
       " '199.72.81.55 - - [01/Jul/1995:00:00:14 -0400] “POST /login HTTP/1.0” 401 1420',\n",
       " '199.72.81.55 - - [01/Jul/1995:00:00:15 -0400] “POST /login HTTP/1.0” 401 1420',\n",
       " '199.72.81.55 - - [01/Jul/1995:00:00:14 -0400] “POST /login HTTP/1.0” 401 1420',\n",
       " '199.72.81.55 - - [01/Jul/1995:00:00:15 -0400] “POST /login HTTP/1.0” 401 1420',\n",
       " '199.72.81.55 - - [01/Jul/1995:00:00:15 -0400] “POST /login HTTP/1.0” 401 1420']"
      ]
     },
     "execution_count": 102,
     "metadata": {},
     "output_type": "execute_result"
    }
   ],
   "source": [
    "# detect patterns of three consecutive failed login attempts within 20 seconds\n",
    "# block further attempts from the IP address for the next 5 minutes\n",
    "block_list = []\n",
    "\n",
    "for nI in range(0, len(record_list)):\n",
    "    host = record_list[nI][\"host\"]\n",
    "    count = 1\n",
    "    t_ini = set_time(record_list[nI][\"time\"])\n",
    "    t_fin = t_ini + timedelta(seconds = 20)\n",
    "\n",
    "    for nF in range(nI+1, len(record_list)):\n",
    "        t_try = set_time(record_list[nF][\"time\"])\n",
    "        host_new = record_list[nF][\"host\"]\n",
    "        if t_try > t_fin and count < 3:\n",
    "            break\n",
    "        if host_new == host:\n",
    "            count += 1\n",
    "            if count == 3:\n",
    "                blk_ini = t_try\n",
    "                blk_fin = t_try + timedelta(minutes = 5)\n",
    "            if count > 3:\n",
    "                block_list.append(record_list[nF][\"raw\"])\n",
    "                if t_try > blk_fin:\n",
    "                    print(\"count = \", count)\n",
    "                    break\n",
    "\n",
    "block_list[:10]    "
   ]
  },
  {
   "cell_type": "code",
   "execution_count": 103,
   "metadata": {
    "collapsed": false
   },
   "outputs": [
    {
     "data": {
      "text/plain": [
       "['199.72.81.55 - - [01/Jul/1995:00:00:13 -0400] “POST /login HTTP/1.0” 401 1420',\n",
       " '199.72.81.55 - - [01/Jul/1995:00:00:14 -0400] “POST /login HTTP/1.0” 401 1420',\n",
       " '199.72.81.55 - - [01/Jul/1995:00:00:15 -0400] “POST /login HTTP/1.0” 401 1420']"
      ]
     },
     "execution_count": 103,
     "metadata": {},
     "output_type": "execute_result"
    }
   ],
   "source": [
    "# detect patterns of three consecutive failed login attempts within 20 seconds\n",
    "# block further attempts from the IP address for the next 5 minutes\n",
    "# advanced way -- no replication\n",
    "block_list = []\n",
    "while len(record_list) > 0:\n",
    "    host = record_list[0][\"host\"]\n",
    "    count = 1\n",
    "    t_ini = set_time(record_list[0][\"time\"])\n",
    "    t_fin = t_ini + timedelta(seconds = 20)\n",
    "\n",
    "    list_to_del = [0]\n",
    "    for nF in range(1, len(record_list)):\n",
    "        t_try = set_time(record_list[nF][\"time\"])\n",
    "        host_new = record_list[nF][\"host\"]\n",
    "        if t_try > t_fin and count < 3:\n",
    "            break\n",
    "        if host_new == host:\n",
    "            count += 1\n",
    "            list_to_del.append(nF)\n",
    "            if count == 3:\n",
    "                blk_ini = t_try\n",
    "                blk_fin = t_try + timedelta(minutes = 5)\n",
    "            if count > 3:\n",
    "                block_list.append(record_list[nF][\"raw\"])\n",
    "                if t_try > blk_fin:\n",
    "                    print(\"count = \", count)\n",
    "                    break\n",
    "    # remove processed items from the record_list\n",
    "    list_to_del.reverse()\n",
    "    for item in list_to_del:\n",
    "        del record_list[item]\n",
    "block_list[:10]\n"
   ]
  },
  {
   "cell_type": "code",
   "execution_count": null,
   "metadata": {
    "collapsed": true
   },
   "outputs": [],
   "source": []
  }
 ],
 "metadata": {
  "kernelspec": {
   "display_name": "Python 3",
   "language": "python",
   "name": "python3"
  },
  "language_info": {
   "codemirror_mode": {
    "name": "ipython",
    "version": 3
   },
   "file_extension": ".py",
   "mimetype": "text/x-python",
   "name": "python",
   "nbconvert_exporter": "python",
   "pygments_lexer": "ipython3",
   "version": "3.6.0"
  }
 },
 "nbformat": 4,
 "nbformat_minor": 2
}
