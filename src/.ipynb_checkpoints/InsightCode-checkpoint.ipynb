{
 "cells": [
  {
   "cell_type": "code",
   "execution_count": 4,
   "metadata": {
    "collapsed": true
   },
   "outputs": [],
   "source": [
    "import re, itertools\n",
    "import pandas as pd"
   ]
  },
  {
   "cell_type": "code",
   "execution_count": 20,
   "metadata": {
    "collapsed": false
   },
   "outputs": [],
   "source": [
    "file_path = \"../log_input/log.txt\"\n",
    "host_list = []\n",
    "request_list = []\n",
    "timestamp_list = []\n",
    "status_list = []\n",
    "http_code_list = []\n",
    "with open(file_path, \"r+\", encoding = 'latin-1') as text_file:\n",
    "    for line in range(0,100000):\n",
    "        record = text_file.readline()[:-1]\n",
    "        host = re.sub(\"[ ]+- -.*\", \"\", record)\n",
    "        host_list.append(host)\n",
    "        timestamp = re.sub(\".*\\[\", \"\", record)\n",
    "        timestamp = re.sub(\"\\].*\", \"\", timestamp)\n",
    "        timestamp_list.append(timestamp)\n",
    "        request = re.sub(\".* \\\"\", \"\", record)\n",
    "        request = re.sub(\"\\\".*\", \"\", request)\n",
    "        status = re.sub(\" .*\", \"\", request)\n",
    "        status_list.append(status)\n",
    "        request = re.sub(\"[a-zA-Z]+ \", \"\", request)\n",
    "        request_list.extend(request.split())\n",
    "        numbers = re.sub(\".*\\\" \", \"\", record)\n",
    "        (http_code, byte) = numbers.split()\n",
    "        http_code_list.append(http_code)"
   ]
  },
  {
   "cell_type": "code",
   "execution_count": 5,
   "metadata": {
    "collapsed": false
   },
   "outputs": [
    {
     "data": {
      "text/plain": [
       "HTTP/1.0                                                23673\n",
       "/                                                       15673\n",
       "/images/NASA-logosmall.HTTP/1.0                          5117\n",
       "/images/KSC-logosmall.HTTP/1.0                           4303\n",
       "/shuttle/countdown/                                      2798\n",
       "/images/WORLD-logosmall.HTTP/1.0                         2406\n",
       "/images/USA-logosmall.HTTP/1.0                           2365\n",
       "/images/MOSAIC-logosmall.HTTP/1.0                        2266\n",
       "/images/ksclogo-medium.HTTP/1.0                          2242\n",
       "/images/launch-logo.HTTP/1.0                             2203\n",
       "/shuttle/countdown/count.HTTP/1.0                        2036\n",
       "/ksc.HTTP/1.0                                            1702\n",
       "/shuttle/missions/sts-71/sts-71-patch-small.HTTP/1.0     1670\n",
       "/images/ksclogosmall.HTTP/1.0                            1580\n",
       "/shuttle/countdown/video/livevideo.HTTP/1.0              1427\n",
       "/shuttle/missions/sts-71/images/images.HTTP/1.0          1257\n",
       "/shuttle/missions/sts-71/mission-sts-71.HTTP/1.0         1229\n",
       "/shuttle/missions/missions.HTTP/1.0                      1132\n",
       "/shuttle/countdown/liftoff.HTTP/1.0                      1073\n",
       "/htbin/cdt_main.HTTP/1.0                                  949\n",
       "dtype: int64"
      ]
     },
     "execution_count": 5,
     "metadata": {},
     "output_type": "execute_result"
    }
   ],
   "source": [
    "request_list = pd.Series(request_list)\n",
    "request_list.value_counts()[:20]"
   ]
  },
  {
   "cell_type": "code",
   "execution_count": 6,
   "metadata": {
    "collapsed": false
   },
   "outputs": [
    {
     "data": {
      "text/plain": [
       "piweba3y.prodigy.com      490\n",
       "disarray.demon.co.uk      379\n",
       "alyssa.prodigy.com        363\n",
       "burger.letters.com        348\n",
       "poppy.hensa.ac.uk         306\n",
       "piweba4y.prodigy.com      300\n",
       "131.182.28.171            278\n",
       "piweba1y.prodigy.com      254\n",
       "lab8.pc.fsu.edu           206\n",
       "dawn14.cs.berkeley.edu    195\n",
       "dtype: int64"
      ]
     },
     "execution_count": 6,
     "metadata": {},
     "output_type": "execute_result"
    }
   ],
   "source": [
    "host_list = pd.Series(host_list)\n",
    "host_list.value_counts()[:10]"
   ]
  },
  {
   "cell_type": "code",
   "execution_count": 7,
   "metadata": {
    "collapsed": false
   },
   "outputs": [
    {
     "data": {
      "text/plain": [
       "01/Jul/1995:16:48:03 -0400    21\n",
       "01/Jul/1995:11:55:54 -0400    21\n",
       "01/Jul/1995:14:44:38 -0400    20\n",
       "01/Jul/1995:13:29:59 -0400    20\n",
       "01/Jul/1995:15:48:10 -0400    20\n",
       "01/Jul/1995:11:45:29 -0400    20\n",
       "01/Jul/1995:13:00:03 -0400    20\n",
       "01/Jul/1995:07:51:24 -0400    20\n",
       "01/Jul/1995:10:15:34 -0400    20\n",
       "01/Jul/1995:02:13:58 -0400    20\n",
       "dtype: int64"
      ]
     },
     "execution_count": 7,
     "metadata": {},
     "output_type": "execute_result"
    }
   ],
   "source": [
    "timestamp_list = pd.Series(timestamp_list)\n",
    "timestamp_list.value_counts()[:10]"
   ]
  },
  {
   "cell_type": "code",
   "execution_count": 18,
   "metadata": {
    "collapsed": false
   },
   "outputs": [],
   "source": [
    "from datetime import datetime\n",
    "from datetime import timedelta\n",
    "dt = datetime.strptime(\"01/Jul/1995:15:48:10 -0400\", \"%d/%b/%Y:%H:%M:%S %z\")\n",
    "dt1 = dt + timedelta(seconds=20)"
   ]
  },
  {
   "cell_type": "code",
   "execution_count": 21,
   "metadata": {
    "collapsed": false
   },
   "outputs": [
    {
     "data": {
      "text/plain": [
       "GET     99073\n",
       "POST      809\n",
       "HEAD      109\n",
       "            9\n",
       "dtype: int64"
      ]
     },
     "execution_count": 21,
     "metadata": {},
     "output_type": "execute_result"
    }
   ],
   "source": [
    "status_list = pd.Series(status_list)\n",
    "status_list.value_counts()"
   ]
  },
  {
   "cell_type": "code",
   "execution_count": 22,
   "metadata": {
    "collapsed": false
   },
   "outputs": [
    {
     "data": {
      "text/plain": [
       "200    91841\n",
       "304     5041\n",
       "302     2746\n",
       "404      205\n",
       "401      167\n",
       "dtype: int64"
      ]
     },
     "execution_count": 22,
     "metadata": {},
     "output_type": "execute_result"
    }
   ],
   "source": [
    "http_code_list = pd.Series(http_code_list)\n",
    "http_code_list.value_counts()"
   ]
  },
  {
   "cell_type": "code",
   "execution_count": null,
   "metadata": {
    "collapsed": true
   },
   "outputs": [],
   "source": []
  }
 ],
 "metadata": {
  "kernelspec": {
   "display_name": "Python 3",
   "language": "python",
   "name": "python3"
  },
  "language_info": {
   "codemirror_mode": {
    "name": "ipython",
    "version": 3
   },
   "file_extension": ".py",
   "mimetype": "text/x-python",
   "name": "python",
   "nbconvert_exporter": "python",
   "pygments_lexer": "ipython3",
   "version": "3.6.0"
  }
 },
 "nbformat": 4,
 "nbformat_minor": 2
}
